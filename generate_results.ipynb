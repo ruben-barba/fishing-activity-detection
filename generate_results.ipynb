{
 "cells": [
  {
   "cell_type": "code",
   "execution_count": 457,
   "id": "c2f53be8",
   "metadata": {},
   "outputs": [
    {
     "name": "stdout",
     "output_type": "stream",
     "text": [
      "The autoreload extension is already loaded. To reload it, use:\n",
      "  %reload_ext autoreload\n"
     ]
    }
   ],
   "source": [
    "# Autoreload\n",
    "%load_ext autoreload\n",
    "%autoreload 2\n",
    "%reload_ext autoreload\n",
    "\n",
    "import pandas as pd\n",
    "import numpy as np\n",
    "import seaborn as sns\n",
    "import matplotlib.pyplot as plt\n",
    "from os import listdir\n",
    "from tqdm import tqdm\n",
    "import folium\n",
    "\n",
    "import pickle\n",
    "\n",
    "import random\n",
    "\n",
    "from sklearn.preprocessing import StandardScaler\n",
    "from sklearn.ensemble import RandomForestClassifier,RandomForestRegressor\n",
    "from sklearn.metrics import accuracy_score,recall_score, f1_score, confusion_matrix\n",
    "from sklearn.model_selection import train_test_split\n",
    "from sklearn.model_selection import GridSearchCV\n",
    "from sklearn.inspection import permutation_importance\n",
    "from sklearn.linear_model import LogisticRegression\n",
    "from sklearn.preprocessing import MinMaxScaler\n",
    "\n",
    "from src import load_data as ld\n",
    "from src import utils\n",
    "from src import feature_exploring as fexp\n",
    "from src import map_plot as mp\n",
    "from src import ml_utils as mlu\n",
    "\n",
    "import warnings\n",
    "warnings.filterwarnings(\"ignore\")"
   ]
  },
  {
   "cell_type": "code",
   "execution_count": 473,
   "id": "b8ac6932",
   "metadata": {},
   "outputs": [],
   "source": [
    "pickled_model = pickle.load(open('results/grid_search_best_rf.pkl', 'rb'))"
   ]
  },
  {
   "cell_type": "markdown",
   "id": "48646d5d",
   "metadata": {},
   "source": [
    "Lo que quiero hacer es crear un codigo que utilice el pickle para sacar la prediccion de nuevos datos. \n",
    "\n",
    "En estos nuevos datos que entren hay que aislar los numeros mmsi para posteriormente poder plotearlos. Eso significa crear un codigo que se asegure de entrar barcos enteros.\n",
    "\n",
    "Eso significa que coger una sample no seria buena idea, hay que coger un grupo de datos agrupados por mmsi.\n",
    "\n",
    "Pensar si en el codigo anterior, en vez de coger una sample habria que coger una sample de mmsi's, para asegurarse de que siempre son barcos enteros.\n",
    "\n",
    "Comprobar la accuracy por barco tambien seria interesante! O necesario..."
   ]
  },
  {
   "cell_type": "markdown",
   "id": "0ea9e32f",
   "metadata": {},
   "source": [
    "##### Creacion de la funcion mmmsi_split"
   ]
  },
  {
   "cell_type": "code",
   "execution_count": 438,
   "id": "60c282eb",
   "metadata": {},
   "outputs": [],
   "source": [
    "df_all_gears = ld.load_data_model()"
   ]
  },
  {
   "cell_type": "code",
   "execution_count": 439,
   "id": "dc4343f8",
   "metadata": {},
   "outputs": [],
   "source": [
    "X = df_all_gears.drop('is_fishing',axis=1)"
   ]
  },
  {
   "cell_type": "code",
   "execution_count": 440,
   "id": "8c5f5e99",
   "metadata": {},
   "outputs": [],
   "source": [
    "y = df_all_gears['is_fishing']"
   ]
  },
  {
   "cell_type": "code",
   "execution_count": 442,
   "id": "751f5fbc",
   "metadata": {},
   "outputs": [
    {
     "name": "stdout",
     "output_type": "stream",
     "text": [
      "Train: 79.0% | Test: 21.0%\n"
     ]
    }
   ],
   "source": [
    "X_train, X_test, y_train, y_test = mlu.train_test_mmsi_split(X,y,0.8)"
   ]
  },
  {
   "cell_type": "code",
   "execution_count": 268,
   "id": "4ad90147",
   "metadata": {},
   "outputs": [],
   "source": [
    "# falta aplicar esto al grid_search.py"
   ]
  },
  {
   "cell_type": "markdown",
   "id": "a00c68bb",
   "metadata": {},
   "source": [
    "##### Utilizar pickle para sacar la prediccion"
   ]
  },
  {
   "cell_type": "code",
   "execution_count": 458,
   "id": "1ee39d1f",
   "metadata": {},
   "outputs": [],
   "source": [
    "new_data = df_all_gears.sample(10000)\n",
    "### new_data = df_all_gears[df_all_gears.mmsi==df_all_gears.mmsi.unique()[92]]\n",
    "\n",
    "# droping all the nul values (in the future, predict them)\n",
    "new_data_na = new_data.dropna()\n",
    "\n",
    "# setting a threshold to is_fishing\n",
    "new_data_na['is_fishing'] = mlu.set_threshold(new_data_na,0.5)\n",
    "\n",
    "# keep mmsi col\n",
    "mmsi_col = new_data_na['mmsi']\n",
    "\n",
    "cols = fexp.column_select(new_data_na,drop_always=True,drop_mmsi=True,drop_y=True,drop_gear=True)\n",
    "new_data_cols = new_data_na[cols]\n",
    "\n",
    "# scaling the train data and using the same object to scale the test data\n",
    "new_data_cols['distance_from_port'] = utils.min_max(new_data_cols,'distance_from_port')\n",
    "new_data_cols['distance_from_shore'] = utils.min_max(new_data_cols,'distance_from_shore')"
   ]
  },
  {
   "cell_type": "code",
   "execution_count": 459,
   "id": "70170918",
   "metadata": {},
   "outputs": [],
   "source": [
    "prediction = pickled_model.predict(new_data_cols)"
   ]
  },
  {
   "cell_type": "code",
   "execution_count": 460,
   "id": "2f3f5126",
   "metadata": {},
   "outputs": [],
   "source": [
    "# resultado global de la prediccion"
   ]
  },
  {
   "cell_type": "code",
   "execution_count": 461,
   "id": "5bda55cd",
   "metadata": {},
   "outputs": [],
   "source": [
    "result = pd.DataFrame({'mmsi':mmsi_col,'is_fishing':new_data_na['is_fishing'],'prediction':prediction,'lat':new_data_na['lat'],'lon':new_data_na['lon']})"
   ]
  },
  {
   "cell_type": "code",
   "execution_count": 462,
   "id": "764f6f54",
   "metadata": {},
   "outputs": [
    {
     "data": {
      "text/html": [
       "<div>\n",
       "<style scoped>\n",
       "    .dataframe tbody tr th:only-of-type {\n",
       "        vertical-align: middle;\n",
       "    }\n",
       "\n",
       "    .dataframe tbody tr th {\n",
       "        vertical-align: top;\n",
       "    }\n",
       "\n",
       "    .dataframe thead th {\n",
       "        text-align: right;\n",
       "    }\n",
       "</style>\n",
       "<table border=\"1\" class=\"dataframe\">\n",
       "  <thead>\n",
       "    <tr style=\"text-align: right;\">\n",
       "      <th></th>\n",
       "      <th>mmsi</th>\n",
       "      <th>is_fishing</th>\n",
       "      <th>prediction</th>\n",
       "      <th>lat</th>\n",
       "      <th>lon</th>\n",
       "    </tr>\n",
       "  </thead>\n",
       "  <tbody>\n",
       "    <tr>\n",
       "      <th>1553550</th>\n",
       "      <td>1.867463e+14</td>\n",
       "      <td>1</td>\n",
       "      <td>1</td>\n",
       "      <td>42.278751</td>\n",
       "      <td>15.141267</td>\n",
       "    </tr>\n",
       "    <tr>\n",
       "      <th>1218645</th>\n",
       "      <td>2.311543e+14</td>\n",
       "      <td>0</td>\n",
       "      <td>0</td>\n",
       "      <td>40.639359</td>\n",
       "      <td>-8.692692</td>\n",
       "    </tr>\n",
       "    <tr>\n",
       "      <th>1301698</th>\n",
       "      <td>2.690503e+14</td>\n",
       "      <td>0</td>\n",
       "      <td>0</td>\n",
       "      <td>64.171448</td>\n",
       "      <td>-51.721985</td>\n",
       "    </tr>\n",
       "    <tr>\n",
       "      <th>1847467</th>\n",
       "      <td>1.038997e+14</td>\n",
       "      <td>1</td>\n",
       "      <td>1</td>\n",
       "      <td>25.034010</td>\n",
       "      <td>166.089783</td>\n",
       "    </tr>\n",
       "    <tr>\n",
       "      <th>824802</th>\n",
       "      <td>8.878018e+13</td>\n",
       "      <td>0</td>\n",
       "      <td>0</td>\n",
       "      <td>49.917446</td>\n",
       "      <td>-6.317163</td>\n",
       "    </tr>\n",
       "    <tr>\n",
       "      <th>...</th>\n",
       "      <td>...</td>\n",
       "      <td>...</td>\n",
       "      <td>...</td>\n",
       "      <td>...</td>\n",
       "      <td>...</td>\n",
       "    </tr>\n",
       "    <tr>\n",
       "      <th>1262044</th>\n",
       "      <td>2.690503e+14</td>\n",
       "      <td>0</td>\n",
       "      <td>0</td>\n",
       "      <td>68.784554</td>\n",
       "      <td>16.547459</td>\n",
       "    </tr>\n",
       "    <tr>\n",
       "      <th>1571574</th>\n",
       "      <td>2.073022e+14</td>\n",
       "      <td>1</td>\n",
       "      <td>0</td>\n",
       "      <td>53.511486</td>\n",
       "      <td>6.266258</td>\n",
       "    </tr>\n",
       "    <tr>\n",
       "      <th>1832630</th>\n",
       "      <td>8.611911e+13</td>\n",
       "      <td>0</td>\n",
       "      <td>0</td>\n",
       "      <td>38.593628</td>\n",
       "      <td>-28.474886</td>\n",
       "    </tr>\n",
       "    <tr>\n",
       "      <th>1011559</th>\n",
       "      <td>1.710880e+14</td>\n",
       "      <td>0</td>\n",
       "      <td>0</td>\n",
       "      <td>-5.060000</td>\n",
       "      <td>-145.587860</td>\n",
       "    </tr>\n",
       "    <tr>\n",
       "      <th>1281117</th>\n",
       "      <td>2.690503e+14</td>\n",
       "      <td>0</td>\n",
       "      <td>0</td>\n",
       "      <td>69.521034</td>\n",
       "      <td>18.354416</td>\n",
       "    </tr>\n",
       "  </tbody>\n",
       "</table>\n",
       "<p>10000 rows × 5 columns</p>\n",
       "</div>"
      ],
      "text/plain": [
       "                 mmsi  is_fishing  prediction        lat         lon\n",
       "1553550  1.867463e+14           1           1  42.278751   15.141267\n",
       "1218645  2.311543e+14           0           0  40.639359   -8.692692\n",
       "1301698  2.690503e+14           0           0  64.171448  -51.721985\n",
       "1847467  1.038997e+14           1           1  25.034010  166.089783\n",
       "824802   8.878018e+13           0           0  49.917446   -6.317163\n",
       "...               ...         ...         ...        ...         ...\n",
       "1262044  2.690503e+14           0           0  68.784554   16.547459\n",
       "1571574  2.073022e+14           1           0  53.511486    6.266258\n",
       "1832630  8.611911e+13           0           0  38.593628  -28.474886\n",
       "1011559  1.710880e+14           0           0  -5.060000 -145.587860\n",
       "1281117  2.690503e+14           0           0  69.521034   18.354416\n",
       "\n",
       "[10000 rows x 5 columns]"
      ]
     },
     "execution_count": 462,
     "metadata": {},
     "output_type": "execute_result"
    }
   ],
   "source": [
    "result"
   ]
  },
  {
   "cell_type": "code",
   "execution_count": 463,
   "id": "9ced9f10",
   "metadata": {},
   "outputs": [],
   "source": [
    "y_test = list(result['is_fishing'])\n",
    "y_pred_test = list(result['prediction'])"
   ]
  },
  {
   "cell_type": "code",
   "execution_count": 464,
   "id": "03b7e467",
   "metadata": {},
   "outputs": [],
   "source": [
    "results = {'Accuracy': accuracy_score(y_test, y_pred_test),\n",
    "           'Recall': recall_score(y_test, y_pred_test),\n",
    "           'F1': f1_score(y_test, y_pred_test),\n",
    "           'set': 'test'}"
   ]
  },
  {
   "cell_type": "code",
   "execution_count": 465,
   "id": "ddc9c418",
   "metadata": {},
   "outputs": [
    {
     "data": {
      "text/plain": [
       "{'Accuracy': 0.9036,\n",
       " 'Recall': 0.9130979736787131,\n",
       " 'F1': 0.9006799917576757,\n",
       " 'set': 'test'}"
      ]
     },
     "execution_count": 465,
     "metadata": {},
     "output_type": "execute_result"
    }
   ],
   "source": [
    "results"
   ]
  },
  {
   "cell_type": "markdown",
   "id": "1d1f2799",
   "metadata": {},
   "source": [
    "Ahora que ya tengo como generar los resultados, necesito que me saque un informe con lo siguiente:\n",
    "- El resultado global de la prediccion\n",
    "- El resultado de la prediccion para cada barco\n",
    "- De alguna manera, un plot de los puntos de pesca y no pesca de los barcos"
   ]
  },
  {
   "cell_type": "markdown",
   "id": "25f72d89",
   "metadata": {},
   "source": [
    "##### Prediccion por barco"
   ]
  },
  {
   "cell_type": "code",
   "execution_count": 467,
   "id": "ee31236e",
   "metadata": {
    "scrolled": true
   },
   "outputs": [],
   "source": [
    "# resultado de la prediccion por barco\n",
    "vessel_results = []\n",
    "count = 0\n",
    "vessels = result['mmsi'].unique()\n",
    "for i in vessels:\n",
    "    vessel_results.append({'mmsi':i,\n",
    "                           'number':count,\n",
    "                           'F1': f1_score(result[result['mmsi']==i]['is_fishing'], result[result['mmsi']==i]['prediction'],zero_division=0)})\n",
    "    count += 1"
   ]
  },
  {
   "cell_type": "code",
   "execution_count": 468,
   "id": "dbd87b49",
   "metadata": {},
   "outputs": [
    {
     "data": {
      "text/plain": [
       "[{'mmsi': 186746307373264.0, 'number': 0, 'F1': 1.0},\n",
       " {'mmsi': 231154271004480.0, 'number': 1, 'F1': 0.9565217391304348},\n",
       " {'mmsi': 269050323939773.0, 'number': 2, 'F1': 0.9548133595284873},\n",
       " {'mmsi': 103899707980421.0, 'number': 3, 'F1': 0.8915662650602411},\n",
       " {'mmsi': 88780175381729.0, 'number': 4, 'F1': 0.5},\n",
       " {'mmsi': 222656062190286.0, 'number': 5, 'F1': 0.7999999999999999},\n",
       " {'mmsi': 274850145767759.0, 'number': 6, 'F1': 0.8229342327150084},\n",
       " {'mmsi': 240226012373593.0, 'number': 7, 'F1': 0.875},\n",
       " {'mmsi': 268433469365583.0, 'number': 8, 'F1': 0.8571428571428571},\n",
       " {'mmsi': 118485905119293.0, 'number': 9, 'F1': 0.9126760563380281},\n",
       " {'mmsi': 229926462784947.0, 'number': 10, 'F1': 0.888888888888889},\n",
       " {'mmsi': 103786638076601.0, 'number': 11, 'F1': 1.0},\n",
       " {'mmsi': 139028728648447.0, 'number': 12, 'F1': 0.0},\n",
       " {'mmsi': 91817019950540.0, 'number': 13, 'F1': 0.9876543209876543},\n",
       " {'mmsi': 141471888075398.0, 'number': 14, 'F1': 0.6666666666666666},\n",
       " {'mmsi': 63476152619655.0, 'number': 15, 'F1': 0.6666666666666666},\n",
       " {'mmsi': 36427802545466.0, 'number': 16, 'F1': 0.9739130434782608},\n",
       " {'mmsi': 10880510825243.0, 'number': 17, 'F1': 0.3720930232558139},\n",
       " {'mmsi': 260992596962571.0, 'number': 18, 'F1': 0.888888888888889},\n",
       " {'mmsi': 48455039594066.0, 'number': 19, 'F1': 0.9333333333333333},\n",
       " {'mmsi': 271347251834362.0, 'number': 20, 'F1': 0.945945945945946},\n",
       " {'mmsi': 185191354590588.0, 'number': 21, 'F1': 0.9032258064516129},\n",
       " {'mmsi': 121426486551523.0, 'number': 22, 'F1': 0.923076923076923},\n",
       " {'mmsi': 20001834541437.0, 'number': 23, 'F1': 0.9433962264150944},\n",
       " {'mmsi': 42314208291274.0, 'number': 24, 'F1': 0.851063829787234},\n",
       " {'mmsi': 130481650671667.0, 'number': 25, 'F1': 1.0},\n",
       " {'mmsi': 1679641928004.0, 'number': 26, 'F1': 0.9056603773584904},\n",
       " {'mmsi': 7572518792420.0, 'number': 27, 'F1': 1.0},\n",
       " {'mmsi': 192803403297411.0, 'number': 28, 'F1': 0.2666666666666667},\n",
       " {'mmsi': 218796484670282.0, 'number': 29, 'F1': 0.9090909090909091},\n",
       " {'mmsi': 229561307305795.0, 'number': 30, 'F1': 1.0},\n",
       " {'mmsi': 17756107268614.0, 'number': 31, 'F1': 0.7499999999999999},\n",
       " {'mmsi': 210316168866209.0, 'number': 32, 'F1': 0.875},\n",
       " {'mmsi': 180084767642619.0, 'number': 33, 'F1': 0.7368421052631579},\n",
       " {'mmsi': 112717863785889.0, 'number': 34, 'F1': 0.0},\n",
       " {'mmsi': 87031415611873.0, 'number': 35, 'F1': 0.923076923076923},\n",
       " {'mmsi': 182087889708399.0, 'number': 36, 'F1': 0.9405940594059405},\n",
       " {'mmsi': 105840999213879.0, 'number': 37, 'F1': 0.9444444444444444},\n",
       " {'mmsi': 39005622580143.0, 'number': 38, 'F1': 0.0},\n",
       " {'mmsi': 229675783400528.0, 'number': 39, 'F1': 0.8421052631578948},\n",
       " {'mmsi': 23593130178765.0, 'number': 40, 'F1': 0.9484536082474226},\n",
       " {'mmsi': 100043174358994.0, 'number': 41, 'F1': 0.8800000000000001},\n",
       " {'mmsi': 72061040661322.0, 'number': 42, 'F1': 0.7307692307692308},\n",
       " {'mmsi': 204349732031005.0, 'number': 43, 'F1': 0.8095238095238095},\n",
       " {'mmsi': 253857904988474.0, 'number': 44, 'F1': 0.7777777777777778},\n",
       " {'mmsi': 133292692499348.0, 'number': 45, 'F1': 0.9090909090909091},\n",
       " {'mmsi': 19859547683322.0, 'number': 46, 'F1': 1.0},\n",
       " {'mmsi': 175387414441613.0, 'number': 47, 'F1': 0.8493150684931509},\n",
       " {'mmsi': 34911701098431.0, 'number': 48, 'F1': 1.0},\n",
       " {'mmsi': 44009123736191.0, 'number': 49, 'F1': 1.0},\n",
       " {'mmsi': 87919276942456.0, 'number': 50, 'F1': 0.9714285714285714},\n",
       " {'mmsi': 261683006747890.0, 'number': 51, 'F1': 0.8571428571428571},\n",
       " {'mmsi': 126605727399747.0, 'number': 52, 'F1': 0.0},\n",
       " {'mmsi': 62603844222786.0, 'number': 53, 'F1': 0.9682539682539683},\n",
       " {'mmsi': 103998194181708.0, 'number': 54, 'F1': 0.8799999999999999},\n",
       " {'mmsi': 76527009766959.0, 'number': 55, 'F1': 0.7222222222222222},\n",
       " {'mmsi': 171088031194242.0, 'number': 56, 'F1': 0.42857142857142855},\n",
       " {'mmsi': 57869290792477.0, 'number': 57, 'F1': 0.9333333333333333},\n",
       " {'mmsi': 273352002611600.0, 'number': 58, 'F1': 0.75},\n",
       " {'mmsi': 178183327397239.0, 'number': 59, 'F1': 0.0},\n",
       " {'mmsi': 274683790319798.0, 'number': 60, 'F1': 1.0},\n",
       " {'mmsi': 252472589824946.0, 'number': 61, 'F1': 1.0},\n",
       " {'mmsi': 2579932616331.0, 'number': 62, 'F1': 0.9928057553956835},\n",
       " {'mmsi': 207493565218514.0, 'number': 63, 'F1': 0.9},\n",
       " {'mmsi': 207302220793465.0, 'number': 64, 'F1': 0.972972972972973},\n",
       " {'mmsi': 40976637345731.0, 'number': 65, 'F1': 0.967032967032967},\n",
       " {'mmsi': 134198565019795.0, 'number': 66, 'F1': 0.8495575221238938},\n",
       " {'mmsi': 224833127282221.0, 'number': 67, 'F1': 0.0},\n",
       " {'mmsi': 183690246677486.0, 'number': 68, 'F1': 0.7142857142857143},\n",
       " {'mmsi': 257110405481434.0, 'number': 69, 'F1': 0.9392265193370166},\n",
       " {'mmsi': 240306622847094.0, 'number': 70, 'F1': 0.9210526315789475},\n",
       " {'mmsi': 163454186850556.0, 'number': 71, 'F1': 0.9090909090909091},\n",
       " {'mmsi': 253383408980179.0, 'number': 72, 'F1': 0.9130434782608696},\n",
       " {'mmsi': 112940878780541.0, 'number': 73, 'F1': 0.888888888888889},\n",
       " {'mmsi': 85022770160929.0, 'number': 74, 'F1': 0.0},\n",
       " {'mmsi': 106150487182509.0, 'number': 75, 'F1': 0.7272727272727273},\n",
       " {'mmsi': 266462074800686.0, 'number': 76, 'F1': 0.9333333333333333},\n",
       " {'mmsi': 157606376843577.0, 'number': 77, 'F1': 0.9902912621359222},\n",
       " {'mmsi': 122096467518708.0, 'number': 78, 'F1': 0.927536231884058},\n",
       " {'mmsi': 281060477973977.0, 'number': 79, 'F1': 0.0},\n",
       " {'mmsi': 79111403404442.0, 'number': 80, 'F1': 0.0},\n",
       " {'mmsi': 188687364514644.0, 'number': 81, 'F1': 0.9577464788732395},\n",
       " {'mmsi': 28204768563961.0, 'number': 82, 'F1': 0.1},\n",
       " {'mmsi': 77261928739173.0, 'number': 83, 'F1': 0.9722222222222222},\n",
       " {'mmsi': 214572731257568.0, 'number': 84, 'F1': 1.0},\n",
       " {'mmsi': 27932326533321.0, 'number': 85, 'F1': 0.7692307692307693},\n",
       " {'mmsi': 134393118622376.0, 'number': 86, 'F1': 0.9210526315789475},\n",
       " {'mmsi': 88026465034109.0, 'number': 87, 'F1': 0.912280701754386},\n",
       " {'mmsi': 202807357436622.0, 'number': 88, 'F1': 0.9333333333333333},\n",
       " {'mmsi': 51394439323066.0, 'number': 89, 'F1': 0.9523809523809523},\n",
       " {'mmsi': 86119106497840.0, 'number': 90, 'F1': 0.9333333333333332},\n",
       " {'mmsi': 77832927010710.0, 'number': 91, 'F1': 0.9894736842105264},\n",
       " {'mmsi': 125954407820672.0, 'number': 92, 'F1': 1.0},\n",
       " {'mmsi': 103576446797335.0, 'number': 93, 'F1': 0.6666666666666666},\n",
       " {'mmsi': 191981830340478.0, 'number': 94, 'F1': 0.9918032786885246},\n",
       " {'mmsi': 69609856269322.0, 'number': 95, 'F1': 1.0},\n",
       " {'mmsi': 11170005450471.0, 'number': 96, 'F1': 1.0},\n",
       " {'mmsi': 16347293924784.0, 'number': 97, 'F1': 0.975609756097561},\n",
       " {'mmsi': 49534994750419.0, 'number': 98, 'F1': 0.9787234042553191},\n",
       " {'mmsi': 208886908053041.0, 'number': 99, 'F1': 0.8571428571428571},\n",
       " {'mmsi': 102029098096261.0, 'number': 100, 'F1': 0.0},\n",
       " {'mmsi': 16508054338972.0, 'number': 101, 'F1': 0.6875000000000001},\n",
       " {'mmsi': 185079710227621.0, 'number': 102, 'F1': 1.0},\n",
       " {'mmsi': 224464308529424.0, 'number': 103, 'F1': 0.8529411764705883},\n",
       " {'mmsi': 212703922233424.0, 'number': 104, 'F1': 0.9142857142857143},\n",
       " {'mmsi': 195297883294501.0, 'number': 105, 'F1': 1.0},\n",
       " {'mmsi': 33266086194351.0, 'number': 106, 'F1': 0.6363636363636364},\n",
       " {'mmsi': 68428926545375.0, 'number': 107, 'F1': 1.0},\n",
       " {'mmsi': 83611953083118.0, 'number': 108, 'F1': 1.0},\n",
       " {'mmsi': 31865679879784.0, 'number': 109, 'F1': 0.9281767955801106},\n",
       " {'mmsi': 274063840293718.0, 'number': 110, 'F1': 1.0},\n",
       " {'mmsi': 68776567390102.0, 'number': 111, 'F1': 0.8405797101449275},\n",
       " {'mmsi': 121739171405202.0, 'number': 112, 'F1': 0.0},\n",
       " {'mmsi': 141431600530701.0, 'number': 113, 'F1': 1.0},\n",
       " {'mmsi': 157515842393095.0, 'number': 114, 'F1': 0.888888888888889},\n",
       " {'mmsi': 129153374871944.0, 'number': 115, 'F1': 0.7499999999999999},\n",
       " {'mmsi': 18517940995316.0, 'number': 116, 'F1': 0.0},\n",
       " {'mmsi': 178858950138911.0, 'number': 117, 'F1': 1.0},\n",
       " {'mmsi': 198075846723102.0, 'number': 118, 'F1': 0.9411764705882353},\n",
       " {'mmsi': 5601266154050.0, 'number': 119, 'F1': 0.9836065573770492},\n",
       " {'mmsi': 251022003811177.0, 'number': 120, 'F1': 0.9166666666666666},\n",
       " {'mmsi': 80423450140220.0, 'number': 121, 'F1': 1.0},\n",
       " {'mmsi': 258237566084521.0, 'number': 122, 'F1': 0.75},\n",
       " {'mmsi': 192426881471378.0, 'number': 123, 'F1': 0.9387755102040817},\n",
       " {'mmsi': 83171028160219.0, 'number': 124, 'F1': 0.6666666666666666},\n",
       " {'mmsi': 252626663422393.0, 'number': 125, 'F1': 1.0},\n",
       " {'mmsi': 267445959186766.0, 'number': 126, 'F1': 1.0},\n",
       " {'mmsi': 208925550869609.0, 'number': 127, 'F1': 0.8444444444444444},\n",
       " {'mmsi': 174925870281549.0, 'number': 128, 'F1': 0.0},\n",
       " {'mmsi': 218997104404214.0, 'number': 129, 'F1': 0.9333333333333333},\n",
       " {'mmsi': 196184437994412.0, 'number': 130, 'F1': 0.0},\n",
       " {'mmsi': 59112496180970.0, 'number': 131, 'F1': 0.888888888888889},\n",
       " {'mmsi': 92501913642218.0, 'number': 132, 'F1': 0.9444444444444444},\n",
       " {'mmsi': 143906914639303.0, 'number': 133, 'F1': 0.5384615384615385},\n",
       " {'mmsi': 104081773926431.0, 'number': 134, 'F1': 0.0},\n",
       " {'mmsi': 39859406485734.0, 'number': 135, 'F1': 0.0},\n",
       " {'mmsi': 6335157561408.0, 'number': 136, 'F1': 0.0},\n",
       " {'mmsi': 160888730138947.0, 'number': 137, 'F1': 0.9333333333333333},\n",
       " {'mmsi': 108694285641009.0, 'number': 138, 'F1': 0.8354430379746834},\n",
       " {'mmsi': 262522671777909.0, 'number': 139, 'F1': 0.923076923076923},\n",
       " {'mmsi': 215151145083937.0, 'number': 140, 'F1': 0.8455284552845529},\n",
       " {'mmsi': 257268756979349.0, 'number': 141, 'F1': 0.9846153846153847},\n",
       " {'mmsi': 1252339803566.0, 'number': 142, 'F1': 0.9411764705882353},\n",
       " {'mmsi': 60628870128017.0, 'number': 143, 'F1': 0.8666666666666666},\n",
       " {'mmsi': 177523928951928.0, 'number': 144, 'F1': 0.9333333333333333},\n",
       " {'mmsi': 89110306461984.0, 'number': 145, 'F1': 0.9142857142857143},\n",
       " {'mmsi': 130528914446151.0, 'number': 146, 'F1': 1.0},\n",
       " {'mmsi': 63716389910332.0, 'number': 147, 'F1': 1.0},\n",
       " {'mmsi': 82018444517655.0, 'number': 148, 'F1': 0.888888888888889},\n",
       " {'mmsi': 262534508730959.0, 'number': 149, 'F1': 0.8666666666666666},\n",
       " {'mmsi': 194716368060295.0, 'number': 150, 'F1': 0.9090909090909091},\n",
       " {'mmsi': 255320322989778.0, 'number': 151, 'F1': 0.92},\n",
       " {'mmsi': 30581813007233.0, 'number': 152, 'F1': 0.9333333333333333},\n",
       " {'mmsi': 269119641458109.0, 'number': 153, 'F1': 0.9523809523809523},\n",
       " {'mmsi': 143694748644249.0, 'number': 154, 'F1': 0.8648648648648648},\n",
       " {'mmsi': 109864465509954.0, 'number': 155, 'F1': 0.28571428571428575},\n",
       " {'mmsi': 115873519952737.0, 'number': 156, 'F1': 1.0},\n",
       " {'mmsi': 85873573270094.0, 'number': 157, 'F1': 1.0},\n",
       " {'mmsi': 132854487178939.0, 'number': 158, 'F1': 0.9180327868852458},\n",
       " {'mmsi': 112453193185843.0, 'number': 159, 'F1': 0.8},\n",
       " {'mmsi': 269896480384592.0, 'number': 160, 'F1': 0.9333333333333333},\n",
       " {'mmsi': 278798244192815.0, 'number': 161, 'F1': 0.8666666666666666},\n",
       " {'mmsi': 18483455048454.0, 'number': 162, 'F1': 0.5714285714285715},\n",
       " {'mmsi': 133351132017619.0, 'number': 163, 'F1': 1.0},\n",
       " {'mmsi': 225902824726985.0, 'number': 164, 'F1': 1.0},\n",
       " {'mmsi': 18199244904065.0, 'number': 165, 'F1': 0.6666666666666666},\n",
       " {'mmsi': 32225346417081.0, 'number': 166, 'F1': 0.896551724137931},\n",
       " {'mmsi': 12639560807591.0, 'number': 167, 'F1': 0.7857142857142856},\n",
       " {'mmsi': 30373804074051.0, 'number': 168, 'F1': 0.9230769230769231},\n",
       " {'mmsi': 236614363512057.0, 'number': 169, 'F1': 0.972972972972973},\n",
       " {'mmsi': 225986789154693.0, 'number': 170, 'F1': 0.8750000000000001},\n",
       " {'mmsi': 281205828320417.0, 'number': 171, 'F1': 0.9818181818181818},\n",
       " {'mmsi': 169618621411728.0, 'number': 172, 'F1': 1.0},\n",
       " {'mmsi': 103256728504203.0, 'number': 173, 'F1': 1.0},\n",
       " {'mmsi': 207649577408623.0, 'number': 174, 'F1': 0.7692307692307693},\n",
       " {'mmsi': 136929052181490.0, 'number': 175, 'F1': 0.0},\n",
       " {'mmsi': 56414685655968.0, 'number': 176, 'F1': 1.0},\n",
       " {'mmsi': 229319160229391.0, 'number': 177, 'F1': 1.0},\n",
       " {'mmsi': 99660428945387.0, 'number': 178, 'F1': 1.0},\n",
       " {'mmsi': 249436063983467.0, 'number': 179, 'F1': 0.9473684210526316},\n",
       " {'mmsi': 117813837180006.0, 'number': 180, 'F1': 0.8372093023255814},\n",
       " {'mmsi': 223168089886026.0, 'number': 181, 'F1': 0.8333333333333333},\n",
       " {'mmsi': 5145483253513.0, 'number': 182, 'F1': 0.8571428571428571},\n",
       " {'mmsi': 243542814991816.0, 'number': 183, 'F1': 0.9090909090909091},\n",
       " {'mmsi': 53148833486047.0, 'number': 184, 'F1': 0.0},\n",
       " {'mmsi': 94745481952721.0, 'number': 185, 'F1': 0.888888888888889},\n",
       " {'mmsi': 41941786536935.0, 'number': 186, 'F1': 0.6666666666666666},\n",
       " {'mmsi': 250845635365871.0, 'number': 187, 'F1': 0.9473684210526316},\n",
       " {'mmsi': 95062718521348.0, 'number': 188, 'F1': 0.6956521739130436},\n",
       " {'mmsi': 102111574707951.0, 'number': 189, 'F1': 0.6666666666666666},\n",
       " {'mmsi': 196934368191473.0, 'number': 190, 'F1': 0.9},\n",
       " {'mmsi': 260351244058145.0, 'number': 191, 'F1': 1.0},\n",
       " {'mmsi': 267609942203034.0, 'number': 192, 'F1': 1.0},\n",
       " {'mmsi': 132058711150033.0, 'number': 193, 'F1': 0.888888888888889},\n",
       " {'mmsi': 139135923300128.0, 'number': 194, 'F1': 1.0},\n",
       " {'mmsi': 275759324256961.0, 'number': 195, 'F1': 0.0},\n",
       " {'mmsi': 280291299563683.0, 'number': 196, 'F1': 0.9354838709677419},\n",
       " {'mmsi': 51101297206144.0, 'number': 197, 'F1': 0.9565217391304348},\n",
       " {'mmsi': 78046436195905.0, 'number': 198, 'F1': 0.888888888888889},\n",
       " {'mmsi': 21232708893780.0, 'number': 199, 'F1': 0.0},\n",
       " {'mmsi': 277515277585463.0, 'number': 200, 'F1': 1.0},\n",
       " {'mmsi': 203685766228826.0, 'number': 201, 'F1': 0.7692307692307693},\n",
       " {'mmsi': 38992105566132.0, 'number': 202, 'F1': 0.0},\n",
       " {'mmsi': 184417002225525.0, 'number': 203, 'F1': 0.8571428571428571},\n",
       " {'mmsi': 23770783250938.0, 'number': 204, 'F1': 0.0},\n",
       " {'mmsi': 157226661382842.0, 'number': 205, 'F1': 0.888888888888889},\n",
       " {'mmsi': 67346977622820.0, 'number': 206, 'F1': 1.0},\n",
       " {'mmsi': 187707772448569.0, 'number': 207, 'F1': 0.9285714285714286},\n",
       " {'mmsi': 184777002834026.0, 'number': 208, 'F1': 0.0},\n",
       " {'mmsi': 108916342700357.0, 'number': 209, 'F1': 1.0},\n",
       " {'mmsi': 49160289345306.0, 'number': 210, 'F1': 1.0},\n",
       " {'mmsi': 80557044293978.0, 'number': 211, 'F1': 0.9696969696969697},\n",
       " {'mmsi': 176800215813134.0, 'number': 212, 'F1': 0.5},\n",
       " {'mmsi': 88060965838011.0, 'number': 213, 'F1': 1.0},\n",
       " {'mmsi': 187372144064677.0, 'number': 214, 'F1': 1.0},\n",
       " {'mmsi': 54587092430231.0, 'number': 215, 'F1': 1.0},\n",
       " {'mmsi': 181792856256929.0, 'number': 216, 'F1': 0.9600000000000001},\n",
       " {'mmsi': 100771710683634.0, 'number': 217, 'F1': 1.0},\n",
       " {'mmsi': 96214383360627.0, 'number': 218, 'F1': 0.8},\n",
       " {'mmsi': 198266627907369.0, 'number': 219, 'F1': 0.9032258064516129},\n",
       " {'mmsi': 197235271847792.0, 'number': 220, 'F1': 0.888888888888889},\n",
       " {'mmsi': 205198558017191.0, 'number': 221, 'F1': 0.0},\n",
       " {'mmsi': 271648488454992.0, 'number': 222, 'F1': 0.0},\n",
       " {'mmsi': 267966743027591.0, 'number': 223, 'F1': 0.8},\n",
       " {'mmsi': 78359653510570.0, 'number': 224, 'F1': 1.0},\n",
       " {'mmsi': 111408197311721.0, 'number': 225, 'F1': 1.0},\n",
       " {'mmsi': 133747148180235.0, 'number': 226, 'F1': 1.0},\n",
       " {'mmsi': 116333895145045.0, 'number': 227, 'F1': 1.0},\n",
       " {'mmsi': 192692343350638.0, 'number': 228, 'F1': 1.0},\n",
       " {'mmsi': 277458320934593.0, 'number': 229, 'F1': 0.8},\n",
       " {'mmsi': 196010605910823.0, 'number': 230, 'F1': 0.9333333333333333},\n",
       " {'mmsi': 28144259049658.0, 'number': 231, 'F1': 0.8},\n",
       " {'mmsi': 164146740964321.0, 'number': 232, 'F1': 0.9090909090909091},\n",
       " {'mmsi': 167072386810842.0, 'number': 233, 'F1': 0.0},\n",
       " {'mmsi': 262281579374724.0, 'number': 234, 'F1': 1.0},\n",
       " {'mmsi': 185895448245062.0, 'number': 235, 'F1': 1.0},\n",
       " {'mmsi': 41303308141714.0, 'number': 236, 'F1': 0.9090909090909091},\n",
       " {'mmsi': 236926760580696.0, 'number': 237, 'F1': 1.0},\n",
       " {'mmsi': 205398406929032.0, 'number': 238, 'F1': 0.9411764705882353},\n",
       " {'mmsi': 207595838999742.0, 'number': 239, 'F1': 0.9230769230769231},\n",
       " {'mmsi': 230452925672863.0, 'number': 240, 'F1': 1.0},\n",
       " {'mmsi': 194671993660064.0, 'number': 241, 'F1': 0.8571428571428571},\n",
       " {'mmsi': 10759394346704.0, 'number': 242, 'F1': 0.7692307692307692},\n",
       " {'mmsi': 138705062821220.0, 'number': 243, 'F1': 0.0},\n",
       " {'mmsi': 37908995999986.0, 'number': 244, 'F1': 0.6666666666666666},\n",
       " {'mmsi': 178555652571863.0, 'number': 245, 'F1': 1.0},\n",
       " {'mmsi': 149732026109185.0, 'number': 246, 'F1': 0.0},\n",
       " {'mmsi': 23406746127304.0, 'number': 247, 'F1': 0.9166666666666666},\n",
       " {'mmsi': 107065136018433.0, 'number': 248, 'F1': 1.0},\n",
       " {'mmsi': 94009022646679.0, 'number': 249, 'F1': 0.0},\n",
       " {'mmsi': 47334168288729.0, 'number': 250, 'F1': 0.0},\n",
       " {'mmsi': 245558512447234.0, 'number': 251, 'F1': 0.6666666666666666},\n",
       " {'mmsi': 43935946737362.0, 'number': 252, 'F1': 0.0},\n",
       " {'mmsi': 184922007900201.0, 'number': 253, 'F1': 1.0},\n",
       " {'mmsi': 77182424306278.0, 'number': 254, 'F1': 1.0},\n",
       " {'mmsi': 75704340932214.0, 'number': 255, 'F1': 0.9090909090909091},\n",
       " {'mmsi': 30054937091173.0, 'number': 256, 'F1': 1.0},\n",
       " {'mmsi': 81653757071585.0, 'number': 257, 'F1': 1.0},\n",
       " {'mmsi': 48794356410718.0, 'number': 258, 'F1': 1.0},\n",
       " {'mmsi': 9924005022437.0, 'number': 259, 'F1': 0.0},\n",
       " {'mmsi': 209987524306087.0, 'number': 260, 'F1': 0.5},\n",
       " {'mmsi': 77303880091301.0, 'number': 261, 'F1': 0.6666666666666666},\n",
       " {'mmsi': 38322969102051.0, 'number': 262, 'F1': 1.0},\n",
       " {'mmsi': 263392518194890.0, 'number': 263, 'F1': 0.6666666666666666},\n",
       " {'mmsi': 149117408188942.0, 'number': 264, 'F1': 0.0},\n",
       " {'mmsi': 132033696632160.0, 'number': 265, 'F1': 1.0},\n",
       " {'mmsi': 131404935810738.0, 'number': 266, 'F1': 0.0},\n",
       " {'mmsi': 16384026414706.0, 'number': 267, 'F1': 0.0},\n",
       " {'mmsi': 119914759372174.0, 'number': 268, 'F1': 0.888888888888889},\n",
       " {'mmsi': 198239745232190.0, 'number': 269, 'F1': 0.6666666666666666},\n",
       " {'mmsi': 259600076146315.0, 'number': 270, 'F1': 0.0},\n",
       " {'mmsi': 209123096662320.0, 'number': 271, 'F1': 0.0},\n",
       " {'mmsi': 168015789077263.0, 'number': 272, 'F1': 1.0},\n",
       " {'mmsi': 89470223580135.0, 'number': 273, 'F1': 0.0},\n",
       " {'mmsi': 247304559749794.0, 'number': 274, 'F1': 0.0},\n",
       " {'mmsi': 109899633275761.0, 'number': 275, 'F1': 0.0}]"
      ]
     },
     "execution_count": 468,
     "metadata": {},
     "output_type": "execute_result"
    }
   ],
   "source": [
    "vessel_results"
   ]
  },
  {
   "cell_type": "code",
   "execution_count": 429,
   "id": "81559c1a",
   "metadata": {},
   "outputs": [],
   "source": [
    "# mirar por que algunos barcos me dan 0! Seran los purse seines?"
   ]
  },
  {
   "cell_type": "code",
   "execution_count": 430,
   "id": "04ae75b8",
   "metadata": {},
   "outputs": [],
   "source": [
    "number = 101"
   ]
  },
  {
   "cell_type": "code",
   "execution_count": 469,
   "id": "c6db438c",
   "metadata": {},
   "outputs": [],
   "source": [
    "vessel_number = result[result.mmsi==result.mmsi.unique()[number]]\n",
    "latitudes = np.array(vessel_number['lat'])\n",
    "longitudes = np.array(vessel_number['lon'])\n",
    "coords = [(lat,lon) for lat,lon in zip(latitudes,longitudes)]"
   ]
  },
  {
   "cell_type": "code",
   "execution_count": 470,
   "id": "28850fa7",
   "metadata": {},
   "outputs": [],
   "source": [
    "result = result[result.mmsi==result.mmsi.unique()[number]]"
   ]
  },
  {
   "cell_type": "code",
   "execution_count": 471,
   "id": "5740e922",
   "metadata": {},
   "outputs": [],
   "source": [
    "df_1 = result[result.is_fishing==1][['lat','lon']]\n",
    "coords_1 = [(lat,lon) for lat,lon in zip(np.array(df_1['lat']),np.array(df_1['lon']))]"
   ]
  },
  {
   "cell_type": "code",
   "execution_count": 472,
   "id": "f12ef25e",
   "metadata": {},
   "outputs": [],
   "source": [
    "df_2 = result[result.prediction==1][['lat','lon']]\n",
    "coords_2 = [(lat,lon) for lat,lon in zip(np.array(df_2['lat']),np.array(df_2['lon']))]"
   ]
  },
  {
   "cell_type": "markdown",
   "id": "a370d548",
   "metadata": {},
   "source": [
    "##### Plotear mapas"
   ]
  },
  {
   "cell_type": "code",
   "execution_count": 504,
   "id": "c0575e25",
   "metadata": {},
   "outputs": [],
   "source": [
    "m_real = mp.folium_markers(coords_1)"
   ]
  },
  {
   "cell_type": "code",
   "execution_count": 477,
   "id": "2522df4b",
   "metadata": {},
   "outputs": [],
   "source": [
    "m_real.save(\"results/plots/m_real.png\")"
   ]
  },
  {
   "cell_type": "code",
   "execution_count": 475,
   "id": "07f08727",
   "metadata": {},
   "outputs": [],
   "source": [
    "m_predict = mp.folium_polyline(coords_2)"
   ]
  },
  {
   "cell_type": "code",
   "execution_count": 478,
   "id": "0ed4a6db",
   "metadata": {},
   "outputs": [],
   "source": [
    "m_predict.save(\"results/plots/m_predict.png\")"
   ]
  },
  {
   "cell_type": "markdown",
   "id": "58497381",
   "metadata": {},
   "source": [
    "Cosas a hacer:\n",
    "- Probar de hacer que el modelo coja los datos con el split por mmsi que he hecho antes\n",
    "- Mirar de poner una etiqueta del gear type en los resultados para ver que tipo de barco es\n",
    "- Ahora mismo mis pruebas se basan en coger otra sample (muchos datos ya los habra visto el modelo). Hay que probar con otros datos, pero como? Me reservo una parte de los datos haciendo split?\n",
    "\n",
    "- Mirar si mi script grid_search tiene que guardarme el dataframe y los mmsi's en un pickle, para usarlos luego!"
   ]
  },
  {
   "cell_type": "markdown",
   "id": "b4cc0664",
   "metadata": {},
   "source": [
    "Mas cosas a hacer:\n",
    "- Es importantisimo en el plot, hacer un codigo que diferencie puntos de pesca de puntos de no pesca. Ahora mismo solo estoy ploteando puntos de pesca.\n",
    "- Tambien hay que programar algo que me saque todos los plots de todos los barcos, y no la mierda que tengo hecha ahora.\n",
    "- Hay que hacer algo con la data que estoy cogiendo como datos nuevos para sacar resultados. Tal vez deberia hacer un split que me deje unseen data.\n",
    "- Hay que hacer algo con los purse seines! Sacarlos del load data tal vez? Pensar que."
   ]
  },
  {
   "cell_type": "code",
   "execution_count": null,
   "id": "ea69d675",
   "metadata": {},
   "outputs": [],
   "source": []
  }
 ],
 "metadata": {
  "kernelspec": {
   "display_name": "Python 3 (ipykernel)",
   "language": "python",
   "name": "python3"
  },
  "language_info": {
   "codemirror_mode": {
    "name": "ipython",
    "version": 3
   },
   "file_extension": ".py",
   "mimetype": "text/x-python",
   "name": "python",
   "nbconvert_exporter": "python",
   "pygments_lexer": "ipython3",
   "version": "3.9.7"
  }
 },
 "nbformat": 4,
 "nbformat_minor": 5
}
