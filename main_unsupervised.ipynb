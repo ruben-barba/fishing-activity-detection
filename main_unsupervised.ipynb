{
 "cells": [
  {
   "cell_type": "code",
   "execution_count": 1,
   "id": "897fc7d4",
   "metadata": {},
   "outputs": [],
   "source": [
    "# Autoreload\n",
    "%load_ext autoreload\n",
    "%autoreload 2\n",
    "%reload_ext autoreload\n",
    "\n",
    "import pandas as pd\n",
    "import numpy as np\n",
    "import seaborn as sns\n",
    "import matplotlib.pyplot as plt\n",
    "\n",
    "import pickle\n",
    "\n",
    "from sklearn.preprocessing import StandardScaler\n",
    "from sklearn.metrics import f1_score, confusion_matrix, accuracy_score, roc_auc_score\n",
    "from sklearn.model_selection import train_test_split, GridSearchCV\n",
    "from sklearn.preprocessing import MinMaxScaler\n",
    "from sklearn.neighbors import KNeighborsClassifier\n",
    "\n",
    "from src import load_data as ld\n",
    "from src import utils\n",
    "from src import feature_exploring as fexp\n",
    "from src import map_plot as mp\n",
    "from src import ml_utils as mlu"
   ]
  },
  {
   "cell_type": "code",
   "execution_count": 2,
   "id": "d19331a9",
   "metadata": {},
   "outputs": [],
   "source": [
    "from sklearn.cluster import KMeans\n",
    "from sklearn.metrics import silhouette_score\n",
    "from yellowbrick.cluster import SilhouetteVisualizer"
   ]
  },
  {
   "cell_type": "code",
   "execution_count": 3,
   "id": "196e367f",
   "metadata": {},
   "outputs": [],
   "source": [
    "def min_max_scaler(train_col,test_col):\n",
    "    \n",
    "    minmax = MinMaxScaler()\n",
    "    minmax.fit(train_col) \n",
    "    train_col_normalized = minmax.transform(train_col)\n",
    "    \n",
    "    minmax.fit(test_col) \n",
    "    test_col_normalized = minmax.transform(test_col)\n",
    "    \n",
    "    return train_col_normalized, test_col_normalized"
   ]
  },
  {
   "cell_type": "markdown",
   "id": "21d117e8",
   "metadata": {},
   "source": [
    "Ahora necesito seleccionar todas las variables (o la mayoria) para posteriormente hacer reduccion de dimensionalidad con PCA"
   ]
  },
  {
   "cell_type": "markdown",
   "id": "4c2f8dd6",
   "metadata": {},
   "source": [
    "## Load data"
   ]
  },
  {
   "cell_type": "code",
   "execution_count": 4,
   "id": "48e04096",
   "metadata": {},
   "outputs": [],
   "source": [
    "gear_type_list = ['Drifting_longlines','Purse_seines','Trawlers']"
   ]
  },
  {
   "cell_type": "code",
   "execution_count": 5,
   "id": "d92eaa54",
   "metadata": {},
   "outputs": [
    {
     "name": "stdout",
     "output_type": "stream",
     "text": [
      "\n",
      "\n",
      "\n",
      "Concatenating data...\n",
      "\n"
     ]
    },
    {
     "name": "stderr",
     "output_type": "stream",
     "text": [
      "\r",
      "  0%|          | 0/3 [00:00<?, ?it/s]"
     ]
    },
    {
     "name": "stdout",
     "output_type": "stream",
     "text": [
      "\n",
      "Loading Drifting_longlines...\n",
      "\n"
     ]
    },
    {
     "name": "stderr",
     "output_type": "stream",
     "text": [
      "\n",
      "  0%|          | 0/21 [00:00<?, ?it/s]\u001b[A\n",
      "  5%|▍         | 1/21 [00:02<00:42,  2.12s/it]\u001b[A\n",
      " 19%|█▉        | 4/21 [00:02<00:07,  2.29it/s]\u001b[A\n",
      " 43%|████▎     | 9/21 [00:02<00:02,  4.07it/s]\u001b[A\n",
      "100%|██████████| 21/21 [00:04<00:00,  5.22it/s]\u001b[A\n",
      " 33%|███▎      | 1/3 [00:04<00:08,  4.04s/it]"
     ]
    },
    {
     "name": "stdout",
     "output_type": "stream",
     "text": [
      "\n",
      "Loading Purse_seines...\n",
      "\n"
     ]
    },
    {
     "name": "stderr",
     "output_type": "stream",
     "text": [
      "\n",
      "  0%|          | 0/21 [00:00<?, ?it/s]\u001b[A\n",
      " 57%|█████▋    | 12/21 [00:00<00:00, 17.05it/s]\u001b[A\n",
      "100%|██████████| 21/21 [00:00<00:00, 22.94it/s]\u001b[A\n",
      " 67%|██████▋   | 2/3 [00:04<00:02,  2.21s/it]"
     ]
    },
    {
     "name": "stdout",
     "output_type": "stream",
     "text": [
      "\n",
      "Loading Trawlers...\n",
      "\n"
     ]
    },
    {
     "name": "stderr",
     "output_type": "stream",
     "text": [
      "\n",
      "  0%|          | 0/21 [00:00<?, ?it/s]\u001b[A\n",
      " 67%|██████▋   | 14/21 [00:01<00:00,  8.93it/s]\u001b[A\n",
      "100%|██████████| 21/21 [00:02<00:00,  7.66it/s]\u001b[A\n",
      "100%|██████████| 3/3 [00:07<00:00,  2.58s/it]\n"
     ]
    }
   ],
   "source": [
    "# loading all dataframes\n",
    "drifting_df, purse_df, trawlers_df = ld.load_multiple(gear_type_list)"
   ]
  },
  {
   "cell_type": "code",
   "execution_count": 6,
   "id": "04543718",
   "metadata": {},
   "outputs": [],
   "source": [
    "dfs = [drifting_df, purse_df, trawlers_df]"
   ]
  },
  {
   "cell_type": "code",
   "execution_count": 7,
   "id": "82170669",
   "metadata": {},
   "outputs": [],
   "source": [
    "# lets label the data creating a new column called 'gear_type'\n",
    "for df,name in zip(dfs,gear_type_list):\n",
    "    df['gear_type'] = name"
   ]
  },
  {
   "cell_type": "code",
   "execution_count": 8,
   "id": "0b8823ff",
   "metadata": {},
   "outputs": [],
   "source": [
    "# concatenating them all\n",
    "df_all_gears = pd.concat(dfs, \n",
    "                         ignore_index=True)"
   ]
  },
  {
   "cell_type": "code",
   "execution_count": 9,
   "id": "d58e2870",
   "metadata": {},
   "outputs": [],
   "source": [
    "# selecting the columns\n",
    "cols = fexp.column_select(df_all_gears,drop_always=True,drop_mmsi=True,col_groups=['1800','10800','21600','43200','86400'])"
   ]
  },
  {
   "cell_type": "code",
   "execution_count": 10,
   "id": "e8069370",
   "metadata": {},
   "outputs": [
    {
     "data": {
      "text/plain": [
       "(1531296, 64)"
      ]
     },
     "execution_count": 10,
     "metadata": {},
     "output_type": "execute_result"
    }
   ],
   "source": [
    "# droping nulls (I think should be filled with a regression)\n",
    "df_all_gears_drop = df_all_gears[cols].dropna()\n",
    "df_all_gears_drop.shape"
   ]
  },
  {
   "cell_type": "code",
   "execution_count": 11,
   "id": "dc6dc09f",
   "metadata": {},
   "outputs": [],
   "source": [
    "# sampling\n",
    "df_all_gears_s = df_all_gears_drop.sample(400000,random_state=45)"
   ]
  },
  {
   "cell_type": "code",
   "execution_count": 25,
   "id": "eec091b9",
   "metadata": {},
   "outputs": [
    {
     "name": "stderr",
     "output_type": "stream",
     "text": [
      "C:\\Users\\Lenovo\\anaconda3\\lib\\site-packages\\pandas\\core\\frame.py:4906: SettingWithCopyWarning: \n",
      "A value is trying to be set on a copy of a slice from a DataFrame\n",
      "\n",
      "See the caveats in the documentation: https://pandas.pydata.org/pandas-docs/stable/user_guide/indexing.html#returning-a-view-versus-a-copy\n",
      "  return super().drop(\n"
     ]
    }
   ],
   "source": [
    "#### creando un dataframe que el modelo NUNCA HA VISTO \n",
    "df_remains = df_all_gears_drop[~df_all_gears_drop.index.isin(df_all_gears_s.index)]\n",
    "df_remains.drop('is_fishing', inplace=True, axis=1) # no lo necesito\n",
    "df_remains = df_remains.sample(400000)\n",
    "\n",
    "# tengo que escalar las columnas\n",
    "df_remains['distance_from_port'] = utils.min_max(df_remains,'distance_from_port')\n",
    "df_remains['distance_from_shore'] = utils.min_max(df_remains,'distance_from_shore')\n",
    "\n",
    "# le quito a mi test la variable a predecir\n",
    "X_df_remains = df_remains.drop('gear_type',axis=1)\n",
    "y_df_remains = df_remains['gear_type']\n",
    "\n"
   ]
  },
  {
   "cell_type": "code",
   "execution_count": 12,
   "id": "eca915f0",
   "metadata": {},
   "outputs": [],
   "source": [
    "# drops\n",
    "df_all_gears_s.drop('is_fishing', inplace=True, axis=1)"
   ]
  },
  {
   "cell_type": "code",
   "execution_count": 13,
   "id": "710737da",
   "metadata": {},
   "outputs": [],
   "source": [
    "# train test split\n",
    "X = df_all_gears_s.drop('gear_type',axis=1)\n",
    "y = df_all_gears_s['gear_type']\n",
    "X_train, X_test, y_train, y_test = train_test_split(X,y)"
   ]
  },
  {
   "cell_type": "code",
   "execution_count": 25,
   "id": "dfd891f4",
   "metadata": {},
   "outputs": [],
   "source": [
    "# saving mmsi numbers\n",
    "# mmsi_train, mmsi_test = X_train['mmsi'], X_test['mmsi']\n",
    "# X_train.drop('mmsi', inplace=True, axis=1)\n",
    "# X_test.drop('mmsi', inplace=True, axis=1)"
   ]
  },
  {
   "cell_type": "code",
   "execution_count": 26,
   "id": "7012667a",
   "metadata": {},
   "outputs": [],
   "source": [
    "# saving gear types\n",
    "# gear_train, gear_test = X_train['gear_type'], X_test['gear_type']\n",
    "# X_train.drop('gear_type', inplace=True, axis=1)\n",
    "# X_test.drop('gear_type', inplace=True, axis=1)"
   ]
  },
  {
   "cell_type": "code",
   "execution_count": 14,
   "id": "156d63f8",
   "metadata": {},
   "outputs": [],
   "source": [
    "# scaling\n",
    "X_train['distance_from_port'], X_test['distance_from_port'] = min_max_scaler(X_train[['distance_from_port']], \n",
    "                                                                             X_test[['distance_from_port']])"
   ]
  },
  {
   "cell_type": "code",
   "execution_count": 15,
   "id": "a8334b09",
   "metadata": {},
   "outputs": [],
   "source": [
    "X_train['distance_from_shore'], X_test['distance_from_shore'] = min_max_scaler(X_train[['distance_from_shore']], \n",
    "                                                                             X_test[['distance_from_shore']])"
   ]
  },
  {
   "cell_type": "markdown",
   "id": "6b42a56b",
   "metadata": {},
   "source": [
    "## KNN"
   ]
  },
  {
   "cell_type": "code",
   "execution_count": 16,
   "id": "d4834024",
   "metadata": {},
   "outputs": [],
   "source": [
    "params = {\n",
    "    'n_neighbors': [1,3,5,7,9],\n",
    "    'weights': ['uniform','distance']\n",
    "}"
   ]
  },
  {
   "cell_type": "code",
   "execution_count": 17,
   "id": "a2e027f6",
   "metadata": {},
   "outputs": [],
   "source": [
    "gs = GridSearchCV(\n",
    "    estimator=KNeighborsClassifier(),\n",
    "    param_grid=params,\n",
    "    cv=5\n",
    ")"
   ]
  },
  {
   "cell_type": "code",
   "execution_count": 52,
   "id": "d5c1d2f0",
   "metadata": {},
   "outputs": [],
   "source": [
    "# knn = KNeighborsClassifier(n_neighbors=7,n_jobs=-1)"
   ]
  },
  {
   "cell_type": "code",
   "execution_count": 53,
   "id": "688b5bdd",
   "metadata": {},
   "outputs": [],
   "source": [
    "# lo entreno con el train"
   ]
  },
  {
   "cell_type": "code",
   "execution_count": 18,
   "id": "d07f6055",
   "metadata": {},
   "outputs": [
    {
     "data": {
      "text/html": [
       "<style>#sk-container-id-1 {color: black;background-color: white;}#sk-container-id-1 pre{padding: 0;}#sk-container-id-1 div.sk-toggleable {background-color: white;}#sk-container-id-1 label.sk-toggleable__label {cursor: pointer;display: block;width: 100%;margin-bottom: 0;padding: 0.3em;box-sizing: border-box;text-align: center;}#sk-container-id-1 label.sk-toggleable__label-arrow:before {content: \"▸\";float: left;margin-right: 0.25em;color: #696969;}#sk-container-id-1 label.sk-toggleable__label-arrow:hover:before {color: black;}#sk-container-id-1 div.sk-estimator:hover label.sk-toggleable__label-arrow:before {color: black;}#sk-container-id-1 div.sk-toggleable__content {max-height: 0;max-width: 0;overflow: hidden;text-align: left;background-color: #f0f8ff;}#sk-container-id-1 div.sk-toggleable__content pre {margin: 0.2em;color: black;border-radius: 0.25em;background-color: #f0f8ff;}#sk-container-id-1 input.sk-toggleable__control:checked~div.sk-toggleable__content {max-height: 200px;max-width: 100%;overflow: auto;}#sk-container-id-1 input.sk-toggleable__control:checked~label.sk-toggleable__label-arrow:before {content: \"▾\";}#sk-container-id-1 div.sk-estimator input.sk-toggleable__control:checked~label.sk-toggleable__label {background-color: #d4ebff;}#sk-container-id-1 div.sk-label input.sk-toggleable__control:checked~label.sk-toggleable__label {background-color: #d4ebff;}#sk-container-id-1 input.sk-hidden--visually {border: 0;clip: rect(1px 1px 1px 1px);clip: rect(1px, 1px, 1px, 1px);height: 1px;margin: -1px;overflow: hidden;padding: 0;position: absolute;width: 1px;}#sk-container-id-1 div.sk-estimator {font-family: monospace;background-color: #f0f8ff;border: 1px dotted black;border-radius: 0.25em;box-sizing: border-box;margin-bottom: 0.5em;}#sk-container-id-1 div.sk-estimator:hover {background-color: #d4ebff;}#sk-container-id-1 div.sk-parallel-item::after {content: \"\";width: 100%;border-bottom: 1px solid gray;flex-grow: 1;}#sk-container-id-1 div.sk-label:hover label.sk-toggleable__label {background-color: #d4ebff;}#sk-container-id-1 div.sk-serial::before {content: \"\";position: absolute;border-left: 1px solid gray;box-sizing: border-box;top: 0;bottom: 0;left: 50%;z-index: 0;}#sk-container-id-1 div.sk-serial {display: flex;flex-direction: column;align-items: center;background-color: white;padding-right: 0.2em;padding-left: 0.2em;position: relative;}#sk-container-id-1 div.sk-item {position: relative;z-index: 1;}#sk-container-id-1 div.sk-parallel {display: flex;align-items: stretch;justify-content: center;background-color: white;position: relative;}#sk-container-id-1 div.sk-item::before, #sk-container-id-1 div.sk-parallel-item::before {content: \"\";position: absolute;border-left: 1px solid gray;box-sizing: border-box;top: 0;bottom: 0;left: 50%;z-index: -1;}#sk-container-id-1 div.sk-parallel-item {display: flex;flex-direction: column;z-index: 1;position: relative;background-color: white;}#sk-container-id-1 div.sk-parallel-item:first-child::after {align-self: flex-end;width: 50%;}#sk-container-id-1 div.sk-parallel-item:last-child::after {align-self: flex-start;width: 50%;}#sk-container-id-1 div.sk-parallel-item:only-child::after {width: 0;}#sk-container-id-1 div.sk-dashed-wrapped {border: 1px dashed gray;margin: 0 0.4em 0.5em 0.4em;box-sizing: border-box;padding-bottom: 0.4em;background-color: white;}#sk-container-id-1 div.sk-label label {font-family: monospace;font-weight: bold;display: inline-block;line-height: 1.2em;}#sk-container-id-1 div.sk-label-container {text-align: center;}#sk-container-id-1 div.sk-container {/* jupyter's `normalize.less` sets `[hidden] { display: none; }` but bootstrap.min.css set `[hidden] { display: none !important; }` so we also need the `!important` here to be able to override the default hidden behavior on the sphinx rendered scikit-learn.org. See: https://github.com/scikit-learn/scikit-learn/issues/21755 */display: inline-block !important;position: relative;}#sk-container-id-1 div.sk-text-repr-fallback {display: none;}</style><div id=\"sk-container-id-1\" class=\"sk-top-container\"><div class=\"sk-text-repr-fallback\"><pre>GridSearchCV(cv=5, estimator=KNeighborsClassifier(),\n",
       "             param_grid={&#x27;n_neighbors&#x27;: [1, 3, 5, 7, 9],\n",
       "                         &#x27;weights&#x27;: [&#x27;uniform&#x27;, &#x27;distance&#x27;]})</pre><b>In a Jupyter environment, please rerun this cell to show the HTML representation or trust the notebook. <br />On GitHub, the HTML representation is unable to render, please try loading this page with nbviewer.org.</b></div><div class=\"sk-container\" hidden><div class=\"sk-item sk-dashed-wrapped\"><div class=\"sk-label-container\"><div class=\"sk-label sk-toggleable\"><input class=\"sk-toggleable__control sk-hidden--visually\" id=\"sk-estimator-id-1\" type=\"checkbox\" ><label for=\"sk-estimator-id-1\" class=\"sk-toggleable__label sk-toggleable__label-arrow\">GridSearchCV</label><div class=\"sk-toggleable__content\"><pre>GridSearchCV(cv=5, estimator=KNeighborsClassifier(),\n",
       "             param_grid={&#x27;n_neighbors&#x27;: [1, 3, 5, 7, 9],\n",
       "                         &#x27;weights&#x27;: [&#x27;uniform&#x27;, &#x27;distance&#x27;]})</pre></div></div></div><div class=\"sk-parallel\"><div class=\"sk-parallel-item\"><div class=\"sk-item\"><div class=\"sk-label-container\"><div class=\"sk-label sk-toggleable\"><input class=\"sk-toggleable__control sk-hidden--visually\" id=\"sk-estimator-id-2\" type=\"checkbox\" ><label for=\"sk-estimator-id-2\" class=\"sk-toggleable__label sk-toggleable__label-arrow\">estimator: KNeighborsClassifier</label><div class=\"sk-toggleable__content\"><pre>KNeighborsClassifier()</pre></div></div></div><div class=\"sk-serial\"><div class=\"sk-item\"><div class=\"sk-estimator sk-toggleable\"><input class=\"sk-toggleable__control sk-hidden--visually\" id=\"sk-estimator-id-3\" type=\"checkbox\" ><label for=\"sk-estimator-id-3\" class=\"sk-toggleable__label sk-toggleable__label-arrow\">KNeighborsClassifier</label><div class=\"sk-toggleable__content\"><pre>KNeighborsClassifier()</pre></div></div></div></div></div></div></div></div></div></div>"
      ],
      "text/plain": [
       "GridSearchCV(cv=5, estimator=KNeighborsClassifier(),\n",
       "             param_grid={'n_neighbors': [1, 3, 5, 7, 9],\n",
       "                         'weights': ['uniform', 'distance']})"
      ]
     },
     "execution_count": 18,
     "metadata": {},
     "output_type": "execute_result"
    }
   ],
   "source": [
    "gs.fit(X_train,y_train)"
   ]
  },
  {
   "cell_type": "code",
   "execution_count": 35,
   "id": "e6d5ed7e",
   "metadata": {},
   "outputs": [
    {
     "data": {
      "text/plain": [
       "Index(['measure_cos_course', 'measure_sin_course', 'distance_from_port',\n",
       "       'measure_course', 'distance_from_shore', 'measure_daylight',\n",
       "       'measure_speed', 'measure_coursestddev_1800_log',\n",
       "       'measure_daylightavg_1800', 'measure_speedstddev_1800',\n",
       "       'measure_count_1800', 'measure_latavg_1800', 'measure_pos_1800',\n",
       "       'measure_lonavg_1800', 'measure_courseavg_1800',\n",
       "       'measure_coursestddev_1800', 'measure_speedavg_1800',\n",
       "       'measure_speedstddev_1800_log', 'measure_coursestddev_10800_log',\n",
       "       'measure_speedstddev_10800', 'measure_latavg_10800',\n",
       "       'measure_speedavg_10800', 'measure_daylightavg_10800',\n",
       "       'measure_courseavg_10800', 'measure_lonavg_10800', 'measure_pos_10800',\n",
       "       'measure_count_10800', 'measure_speedstddev_10800_log',\n",
       "       'measure_coursestddev_10800', 'measure_coursestddev_21600',\n",
       "       'measure_speedavg_21600', 'measure_latavg_21600', 'measure_count_21600',\n",
       "       'measure_coursestddev_21600_log', 'measure_lonavg_21600',\n",
       "       'measure_speedstddev_21600_log', 'measure_speedstddev_21600',\n",
       "       'measure_daylightavg_21600', 'measure_pos_21600',\n",
       "       'measure_courseavg_21600', 'measure_coursestddev_43200',\n",
       "       'measure_courseavg_43200', 'measure_daylightavg_43200',\n",
       "       'measure_coursestddev_43200_log', 'measure_pos_43200',\n",
       "       'measure_speedavg_43200', 'measure_count_43200',\n",
       "       'measure_speedstddev_43200_log', 'measure_speedstddev_43200',\n",
       "       'measure_latavg_43200', 'measure_lonavg_43200',\n",
       "       'measure_speedavg_86400', 'measure_pos_86400', 'measure_latavg_86400',\n",
       "       'measure_count_86400', 'measure_speedstddev_86400_log',\n",
       "       'measure_speedstddev_86400', 'measure_coursestddev_86400_log',\n",
       "       'measure_coursestddev_86400', 'measure_daylightavg_86400',\n",
       "       'measure_courseavg_86400', 'measure_lonavg_86400'],\n",
       "      dtype='object')"
      ]
     },
     "execution_count": 35,
     "metadata": {},
     "output_type": "execute_result"
    }
   ],
   "source": [
    "X_train.columns"
   ]
  },
  {
   "cell_type": "code",
   "execution_count": null,
   "id": "6696e4e7",
   "metadata": {},
   "outputs": [],
   "source": []
  },
  {
   "cell_type": "code",
   "execution_count": null,
   "id": "9fc899c6",
   "metadata": {},
   "outputs": [],
   "source": []
  },
  {
   "cell_type": "code",
   "execution_count": 19,
   "id": "fdb9d11f",
   "metadata": {},
   "outputs": [
    {
     "name": "stdout",
     "output_type": "stream",
     "text": [
      "Accuracy of K-NN classifier on training set: 1.00\n",
      "Accuracy of K-NN classifier on test set: 0.99\n"
     ]
    }
   ],
   "source": [
    "print('Accuracy of K-NN classifier on training set: {:.2f}'\n",
    "     .format(gs.score(X_train, y_train)))\n",
    "print('Accuracy of K-NN classifier on test set: {:.2f}'\n",
    "     .format(gs.score(X_test, y_test)))"
   ]
  },
  {
   "cell_type": "code",
   "execution_count": 20,
   "id": "03444900",
   "metadata": {},
   "outputs": [],
   "source": [
    "# prediccion con el test"
   ]
  },
  {
   "cell_type": "code",
   "execution_count": 22,
   "id": "251b41bd",
   "metadata": {},
   "outputs": [
    {
     "data": {
      "text/html": [
       "<style>#sk-container-id-2 {color: black;background-color: white;}#sk-container-id-2 pre{padding: 0;}#sk-container-id-2 div.sk-toggleable {background-color: white;}#sk-container-id-2 label.sk-toggleable__label {cursor: pointer;display: block;width: 100%;margin-bottom: 0;padding: 0.3em;box-sizing: border-box;text-align: center;}#sk-container-id-2 label.sk-toggleable__label-arrow:before {content: \"▸\";float: left;margin-right: 0.25em;color: #696969;}#sk-container-id-2 label.sk-toggleable__label-arrow:hover:before {color: black;}#sk-container-id-2 div.sk-estimator:hover label.sk-toggleable__label-arrow:before {color: black;}#sk-container-id-2 div.sk-toggleable__content {max-height: 0;max-width: 0;overflow: hidden;text-align: left;background-color: #f0f8ff;}#sk-container-id-2 div.sk-toggleable__content pre {margin: 0.2em;color: black;border-radius: 0.25em;background-color: #f0f8ff;}#sk-container-id-2 input.sk-toggleable__control:checked~div.sk-toggleable__content {max-height: 200px;max-width: 100%;overflow: auto;}#sk-container-id-2 input.sk-toggleable__control:checked~label.sk-toggleable__label-arrow:before {content: \"▾\";}#sk-container-id-2 div.sk-estimator input.sk-toggleable__control:checked~label.sk-toggleable__label {background-color: #d4ebff;}#sk-container-id-2 div.sk-label input.sk-toggleable__control:checked~label.sk-toggleable__label {background-color: #d4ebff;}#sk-container-id-2 input.sk-hidden--visually {border: 0;clip: rect(1px 1px 1px 1px);clip: rect(1px, 1px, 1px, 1px);height: 1px;margin: -1px;overflow: hidden;padding: 0;position: absolute;width: 1px;}#sk-container-id-2 div.sk-estimator {font-family: monospace;background-color: #f0f8ff;border: 1px dotted black;border-radius: 0.25em;box-sizing: border-box;margin-bottom: 0.5em;}#sk-container-id-2 div.sk-estimator:hover {background-color: #d4ebff;}#sk-container-id-2 div.sk-parallel-item::after {content: \"\";width: 100%;border-bottom: 1px solid gray;flex-grow: 1;}#sk-container-id-2 div.sk-label:hover label.sk-toggleable__label {background-color: #d4ebff;}#sk-container-id-2 div.sk-serial::before {content: \"\";position: absolute;border-left: 1px solid gray;box-sizing: border-box;top: 0;bottom: 0;left: 50%;z-index: 0;}#sk-container-id-2 div.sk-serial {display: flex;flex-direction: column;align-items: center;background-color: white;padding-right: 0.2em;padding-left: 0.2em;position: relative;}#sk-container-id-2 div.sk-item {position: relative;z-index: 1;}#sk-container-id-2 div.sk-parallel {display: flex;align-items: stretch;justify-content: center;background-color: white;position: relative;}#sk-container-id-2 div.sk-item::before, #sk-container-id-2 div.sk-parallel-item::before {content: \"\";position: absolute;border-left: 1px solid gray;box-sizing: border-box;top: 0;bottom: 0;left: 50%;z-index: -1;}#sk-container-id-2 div.sk-parallel-item {display: flex;flex-direction: column;z-index: 1;position: relative;background-color: white;}#sk-container-id-2 div.sk-parallel-item:first-child::after {align-self: flex-end;width: 50%;}#sk-container-id-2 div.sk-parallel-item:last-child::after {align-self: flex-start;width: 50%;}#sk-container-id-2 div.sk-parallel-item:only-child::after {width: 0;}#sk-container-id-2 div.sk-dashed-wrapped {border: 1px dashed gray;margin: 0 0.4em 0.5em 0.4em;box-sizing: border-box;padding-bottom: 0.4em;background-color: white;}#sk-container-id-2 div.sk-label label {font-family: monospace;font-weight: bold;display: inline-block;line-height: 1.2em;}#sk-container-id-2 div.sk-label-container {text-align: center;}#sk-container-id-2 div.sk-container {/* jupyter's `normalize.less` sets `[hidden] { display: none; }` but bootstrap.min.css set `[hidden] { display: none !important; }` so we also need the `!important` here to be able to override the default hidden behavior on the sphinx rendered scikit-learn.org. See: https://github.com/scikit-learn/scikit-learn/issues/21755 */display: inline-block !important;position: relative;}#sk-container-id-2 div.sk-text-repr-fallback {display: none;}</style><div id=\"sk-container-id-2\" class=\"sk-top-container\"><div class=\"sk-text-repr-fallback\"><pre>KNeighborsClassifier(n_neighbors=1)</pre><b>In a Jupyter environment, please rerun this cell to show the HTML representation or trust the notebook. <br />On GitHub, the HTML representation is unable to render, please try loading this page with nbviewer.org.</b></div><div class=\"sk-container\" hidden><div class=\"sk-item\"><div class=\"sk-estimator sk-toggleable\"><input class=\"sk-toggleable__control sk-hidden--visually\" id=\"sk-estimator-id-4\" type=\"checkbox\" checked><label for=\"sk-estimator-id-4\" class=\"sk-toggleable__label sk-toggleable__label-arrow\">KNeighborsClassifier</label><div class=\"sk-toggleable__content\"><pre>KNeighborsClassifier(n_neighbors=1)</pre></div></div></div></div></div>"
      ],
      "text/plain": [
       "KNeighborsClassifier(n_neighbors=1)"
      ]
     },
     "execution_count": 22,
     "metadata": {},
     "output_type": "execute_result"
    }
   ],
   "source": [
    "knn = gs.best_estimator_\n",
    "knn"
   ]
  },
  {
   "cell_type": "code",
   "execution_count": 23,
   "id": "bc832168",
   "metadata": {},
   "outputs": [
    {
     "name": "stdout",
     "output_type": "stream",
     "text": [
      "[[50591   217   126]\n",
      " [  231 11937    92]\n",
      " [  120    97 36589]]\n"
     ]
    }
   ],
   "source": [
    "pred = knn.predict(X_test)\n",
    "print(confusion_matrix(y_test, pred))"
   ]
  },
  {
   "cell_type": "code",
   "execution_count": 61,
   "id": "e132d6f2",
   "metadata": {},
   "outputs": [],
   "source": [
    "# ahora probemos con produccion"
   ]
  },
  {
   "cell_type": "code",
   "execution_count": 26,
   "id": "d7aef3cc",
   "metadata": {},
   "outputs": [],
   "source": [
    "production_pred = knn.predict(X_df_remains) # tengo que predecir con la X de produccion"
   ]
  },
  {
   "cell_type": "code",
   "execution_count": 27,
   "id": "6dbabb16",
   "metadata": {},
   "outputs": [],
   "source": [
    "production_pred_prob = knn.predict_proba(X_df_remains)"
   ]
  },
  {
   "cell_type": "code",
   "execution_count": 28,
   "id": "63547ad8",
   "metadata": {},
   "outputs": [
    {
     "name": "stdout",
     "output_type": "stream",
     "text": [
      "[[201932    894    526]\n",
      " [   981  47697    412]\n",
      " [   464    353 146741]]\n"
     ]
    }
   ],
   "source": [
    "print(confusion_matrix(y_df_remains, production_pred)) # en produccion, comparo lo real con lo predecido"
   ]
  },
  {
   "cell_type": "code",
   "execution_count": 29,
   "id": "7619b26f",
   "metadata": {},
   "outputs": [
    {
     "data": {
      "text/plain": [
       "0.990925"
      ]
     },
     "execution_count": 29,
     "metadata": {},
     "output_type": "execute_result"
    }
   ],
   "source": [
    "accuracy_score(y_df_remains,production_pred)"
   ]
  },
  {
   "cell_type": "code",
   "execution_count": 30,
   "id": "7e4f5c88",
   "metadata": {},
   "outputs": [
    {
     "data": {
      "text/plain": [
       "0.9926912610952551"
      ]
     },
     "execution_count": 30,
     "metadata": {},
     "output_type": "execute_result"
    }
   ],
   "source": [
    "roc_auc_score(y_df_remains, production_pred_prob, average=\"weighted\", multi_class=\"ovr\")"
   ]
  },
  {
   "cell_type": "code",
   "execution_count": 31,
   "id": "6f0c3cbd",
   "metadata": {},
   "outputs": [
    {
     "data": {
      "text/plain": [
       "0.9909212045906177"
      ]
     },
     "execution_count": 31,
     "metadata": {},
     "output_type": "execute_result"
    }
   ],
   "source": [
    "f1_score(y_df_remains,production_pred,average='weighted')"
   ]
  },
  {
   "cell_type": "markdown",
   "id": "3401262d",
   "metadata": {},
   "source": [
    "### Vamos a mirar uno a uno"
   ]
  },
  {
   "cell_type": "code",
   "execution_count": 32,
   "id": "f295903e",
   "metadata": {},
   "outputs": [
    {
     "data": {
      "text/plain": [
       "Drifting_longlines    203352\n",
       "Trawlers              147558\n",
       "Purse_seines           49090\n",
       "Name: gear_type, dtype: int64"
      ]
     },
     "execution_count": 32,
     "metadata": {},
     "output_type": "execute_result"
    }
   ],
   "source": [
    "y_df_remains.value_counts()"
   ]
  },
  {
   "cell_type": "code",
   "execution_count": 33,
   "id": "ab750d84",
   "metadata": {},
   "outputs": [
    {
     "data": {
      "text/plain": [
       "Drifting_longlines    203377\n",
       "Trawlers              147679\n",
       "Purse_seines           48944\n",
       "dtype: int64"
      ]
     },
     "execution_count": 33,
     "metadata": {},
     "output_type": "execute_result"
    }
   ],
   "source": [
    "pd.Series(production_pred).value_counts()"
   ]
  },
  {
   "cell_type": "code",
   "execution_count": null,
   "id": "8aeca497",
   "metadata": {},
   "outputs": [],
   "source": []
  }
 ],
 "metadata": {
  "kernelspec": {
   "display_name": "Python 3 (ipykernel)",
   "language": "python",
   "name": "python3"
  },
  "language_info": {
   "codemirror_mode": {
    "name": "ipython",
    "version": 3
   },
   "file_extension": ".py",
   "mimetype": "text/x-python",
   "name": "python",
   "nbconvert_exporter": "python",
   "pygments_lexer": "ipython3",
   "version": "3.9.7"
  }
 },
 "nbformat": 4,
 "nbformat_minor": 5
}
